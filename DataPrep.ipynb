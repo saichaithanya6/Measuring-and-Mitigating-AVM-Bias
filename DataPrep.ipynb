{
 "cells": [
  {
   "cell_type": "code",
   "execution_count": 1,
   "id": "c01b8c77",
   "metadata": {},
   "outputs": [],
   "source": [
    "import pandas as pd\n",
    "pd.set_option('display.float_format', lambda x: '%.3f' % x)"
   ]
  },
  {
   "cell_type": "markdown",
   "id": "d9b4eb74",
   "metadata": {},
   "source": [
    "### Load in Data Needed"
   ]
  },
  {
   "cell_type": "code",
   "execution_count": 2,
   "id": "0a4d4802",
   "metadata": {},
   "outputs": [],
   "source": [
    "df_2016 = pd.read_csv('../data/properties_2016.csv', low_memory=False)\n",
    "df_2017 = pd.read_csv('../data/properties_2017.csv', low_memory=False)\n",
    "df_demograph = pd.read_csv('../data/demographics.csv', low_memory=False)"
   ]
  },
  {
   "cell_type": "code",
   "execution_count": 3,
   "id": "ebdb3f92",
   "metadata": {},
   "outputs": [
    {
     "data": {
      "text/html": [
       "<div>\n",
       "<style scoped>\n",
       "    .dataframe tbody tr th:only-of-type {\n",
       "        vertical-align: middle;\n",
       "    }\n",
       "\n",
       "    .dataframe tbody tr th {\n",
       "        vertical-align: top;\n",
       "    }\n",
       "\n",
       "    .dataframe thead th {\n",
       "        text-align: right;\n",
       "    }\n",
       "</style>\n",
       "<table border=\"1\" class=\"dataframe\">\n",
       "  <thead>\n",
       "    <tr style=\"text-align: right;\">\n",
       "      <th></th>\n",
       "      <th>Unnamed: 0</th>\n",
       "      <th>censustractandblock</th>\n",
       "      <th>total</th>\n",
       "      <th>hispanic_or_latino</th>\n",
       "      <th>not_hispanic_or_latino</th>\n",
       "      <th>white_alone</th>\n",
       "      <th>black_alone</th>\n",
       "      <th>asian_alone</th>\n",
       "    </tr>\n",
       "  </thead>\n",
       "  <tbody>\n",
       "    <tr>\n",
       "      <th>0</th>\n",
       "      <td>1</td>\n",
       "      <td>1000000US060371011101000</td>\n",
       "      <td>101</td>\n",
       "      <td>28</td>\n",
       "      <td>73</td>\n",
       "      <td>60</td>\n",
       "      <td>2</td>\n",
       "      <td>9</td>\n",
       "    </tr>\n",
       "    <tr>\n",
       "      <th>1</th>\n",
       "      <td>2</td>\n",
       "      <td>1000000US060371011101001</td>\n",
       "      <td>81</td>\n",
       "      <td>22</td>\n",
       "      <td>59</td>\n",
       "      <td>39</td>\n",
       "      <td>6</td>\n",
       "      <td>8</td>\n",
       "    </tr>\n",
       "    <tr>\n",
       "      <th>2</th>\n",
       "      <td>3</td>\n",
       "      <td>1000000US060371011101002</td>\n",
       "      <td>75</td>\n",
       "      <td>10</td>\n",
       "      <td>65</td>\n",
       "      <td>49</td>\n",
       "      <td>1</td>\n",
       "      <td>7</td>\n",
       "    </tr>\n",
       "    <tr>\n",
       "      <th>3</th>\n",
       "      <td>4</td>\n",
       "      <td>1000000US060371011101003</td>\n",
       "      <td>76</td>\n",
       "      <td>25</td>\n",
       "      <td>51</td>\n",
       "      <td>45</td>\n",
       "      <td>0</td>\n",
       "      <td>0</td>\n",
       "    </tr>\n",
       "    <tr>\n",
       "      <th>4</th>\n",
       "      <td>5</td>\n",
       "      <td>1000000US060371011101004</td>\n",
       "      <td>155</td>\n",
       "      <td>28</td>\n",
       "      <td>127</td>\n",
       "      <td>108</td>\n",
       "      <td>0</td>\n",
       "      <td>11</td>\n",
       "    </tr>\n",
       "  </tbody>\n",
       "</table>\n",
       "</div>"
      ],
      "text/plain": [
       "   Unnamed: 0       censustractandblock  total  hispanic_or_latino  \\\n",
       "0           1  1000000US060371011101000    101                  28   \n",
       "1           2  1000000US060371011101001     81                  22   \n",
       "2           3  1000000US060371011101002     75                  10   \n",
       "3           4  1000000US060371011101003     76                  25   \n",
       "4           5  1000000US060371011101004    155                  28   \n",
       "\n",
       "   not_hispanic_or_latino  white_alone  black_alone  asian_alone  \n",
       "0                      73           60            2            9  \n",
       "1                      59           39            6            8  \n",
       "2                      65           49            1            7  \n",
       "3                      51           45            0            0  \n",
       "4                     127          108            0           11  "
      ]
     },
     "execution_count": 3,
     "metadata": {},
     "output_type": "execute_result"
    }
   ],
   "source": [
    "df_demograph.head()"
   ]
  },
  {
   "cell_type": "markdown",
   "id": "969b48b5",
   "metadata": {},
   "source": [
    "### Data Cleaning"
   ]
  },
  {
   "cell_type": "code",
   "execution_count": 4,
   "id": "6529f9be",
   "metadata": {},
   "outputs": [],
   "source": [
    "df_2016 = df_2016[df_2016.propertylandusetypeid == 261.0]\n",
    "df_2017 = df_2017[df_2017.propertylandusetypeid == 261.0]"
   ]
  },
  {
   "cell_type": "code",
   "execution_count": null,
   "id": "8e04c51b",
   "metadata": {},
   "outputs": [],
   "source": [
    "percent_missing = df_2016.isnull().sum() * 100 / len(df_2016)\n",
    "missing_value_df = pd.DataFrame({'column_name': df_2016.columns,\n",
    "                                 'percent_missing': percent_missing})\n",
    "missing_value_df"
   ]
  },
  {
   "cell_type": "code",
   "execution_count": null,
   "id": "1da8492e",
   "metadata": {},
   "outputs": [],
   "source": [
    "percent_missing = df_2017.isnull().sum() * 100 / len(df_2017)\n",
    "missing_value_df = pd.DataFrame({'column_name': df_2017.columns,\n",
    "                                 'percent_missing': percent_missing})\n",
    "missing_value_df"
   ]
  },
  {
   "cell_type": "code",
   "execution_count": null,
   "id": "738a236b",
   "metadata": {},
   "outputs": [],
   "source": [
    "columns_to_drop = ['architecturalstyletypeid', 'basementsqft', 'buildingclasstypeid', 'decktypeid',\n",
    "                   'finishedfloor1squarefeet','finishedsquarefeet13', 'finishedsquarefeet15', 'finishedsquarefeet50',\n",
    "                   'finishedsquarefeet6', 'hashottuborspa','poolsizesum', 'pooltypeid10', 'pooltypeid7',\n",
    "                   'storytypeid',  'typeconstructiontypeid', 'yardbuildingsqft17', 'yardbuildingsqft26',\n",
    "                   'fireplaceflag', 'taxdelinquencyflag', 'taxdelinquencyyear', 'pooltypeid2']\n",
    "\n",
    "df_2016 = df_2016.drop(columns_to_drop, axis=1)\n",
    "df_2017 = df_2017.drop(columns_to_drop, axis=1)\n",
    "\n",
    "df_2016 = df_2016.dropna(subset=['fips'])\n",
    "df_2017 = df_2017.dropna(subset=['fips'])"
   ]
  },
  {
   "cell_type": "markdown",
   "id": "754fd1ce",
   "metadata": {},
   "source": [
    "### Normalize Census Tract Data"
   ]
  },
  {
   "cell_type": "code",
   "execution_count": null,
   "id": "f111f1b5",
   "metadata": {},
   "outputs": [],
   "source": [
    "df_demograph"
   ]
  },
  {
   "cell_type": "code",
   "execution_count": null,
   "id": "319f8849",
   "metadata": {},
   "outputs": [],
   "source": [
    "df_demograph['state'] = df_demograph['censustractandblock'].str[-15:-13]\n",
    "df_demograph['fips'] = df_demograph['censustractandblock'].str[-15:-10]\n",
    "df_demograph['census_tract'] = df_demograph['censustractandblock'].str[-15:-4]"
   ]
  },
  {
   "cell_type": "code",
   "execution_count": null,
   "id": "ae5be252",
   "metadata": {},
   "outputs": [],
   "source": [
    "df_demograph = df_demograph[['total', 'hispanic_or_latino', 'not_hispanic_or_latino',\n",
    "                                'white_alone', 'black_alone', 'asian_alone','census_tract']]"
   ]
  },
  {
   "cell_type": "code",
   "execution_count": null,
   "id": "aff837e4",
   "metadata": {},
   "outputs": [],
   "source": [
    "df_demograph = df_demograph.groupby('census_tract').sum().reset_index()"
   ]
  },
  {
   "cell_type": "code",
   "execution_count": null,
   "id": "871632c7",
   "metadata": {},
   "outputs": [],
   "source": [
    "df_2016['fips'] = df_2016['fips'].astype(int).astype(str).str.zfill(5)\n",
    "df_2016['state'] = df_2016['fips'].astype(str).str[:2]\n",
    "df_2016['census_tract'] = df_2016['rawcensustractandblock'].astype(str).str[:11].str.replace(\".\",\"\").str.zfill(11)"
   ]
  },
  {
   "cell_type": "code",
   "execution_count": null,
   "id": "c0989f09",
   "metadata": {},
   "outputs": [],
   "source": [
    "df_2017['fips'] = df_2017['fips'].astype(int).astype(str).str.zfill(5)\n",
    "df_2017['state'] = df_2017['fips'].astype(str).str[:2]\n",
    "df_2017['census_tract'] = df_2017['rawcensustractandblock'].astype(str).str[:11].str.replace(\".\",\"\").str.zfill(11)"
   ]
  },
  {
   "cell_type": "code",
   "execution_count": null,
   "id": "e1eed083",
   "metadata": {},
   "outputs": [],
   "source": [
    "df_demograph.set_index('census_tract', inplace=True)\n",
    "df_2016.set_index('census_tract', inplace=True)\n",
    "df_2017.set_index('census_tract', inplace=True)"
   ]
  },
  {
   "cell_type": "code",
   "execution_count": null,
   "id": "51ccc819",
   "metadata": {},
   "outputs": [],
   "source": [
    "n = 100000\n",
    "list_df = [df_2016[i:i+n] for i in range(0,df_2016.shape[0],n)]\n",
    "\n",
    "i=0\n",
    "for df in list_df:\n",
    "    x = df.join(df_demograph, how='left')  \n",
    "    x.to_csv('../data/2016_chunks/2016_{}_of_{}.csv'.format(i, len(list_df)), index=True)\n",
    "    i+=1\n",
    "    print(i)"
   ]
  },
  {
   "cell_type": "code",
   "execution_count": null,
   "id": "ce4dbebb",
   "metadata": {},
   "outputs": [],
   "source": [
    "n = 100000\n",
    "list_df = [df_2017[i:i+n] for i in range(0,df_2017.shape[0],n)]\n",
    "\n",
    "i=0\n",
    "for df in list_df:\n",
    "    x = df.join(df_demograph, how='left')  \n",
    "    x.to_csv('../data/2017_chunks/2016_{}_of_{}.csv'.format(i, len(list_df)), index=True)\n",
    "    i+=1\n",
    "    print(i)"
   ]
  },
  {
   "cell_type": "code",
   "execution_count": null,
   "id": "5ed041eb",
   "metadata": {},
   "outputs": [],
   "source": []
  },
  {
   "cell_type": "code",
   "execution_count": null,
   "id": "a04d92fa",
   "metadata": {},
   "outputs": [],
   "source": []
  }
 ],
 "metadata": {
  "kernelspec": {
   "display_name": "Python 3 (ipykernel)",
   "language": "python",
   "name": "python3"
  },
  "language_info": {
   "codemirror_mode": {
    "name": "ipython",
    "version": 3
   },
   "file_extension": ".py",
   "mimetype": "text/x-python",
   "name": "python",
   "nbconvert_exporter": "python",
   "pygments_lexer": "ipython3",
   "version": "3.9.4"
  }
 },
 "nbformat": 4,
 "nbformat_minor": 5
}
