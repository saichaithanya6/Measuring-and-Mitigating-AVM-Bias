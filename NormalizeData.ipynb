{
 "cells": [
  {
   "cell_type": "code",
   "execution_count": 44,
   "id": "bc080a5f",
   "metadata": {},
   "outputs": [],
   "source": [
    "import pandas as pd"
   ]
  },
  {
   "cell_type": "code",
   "execution_count": 45,
   "id": "6a380a3f",
   "metadata": {},
   "outputs": [
    {
     "name": "stderr",
     "output_type": "stream",
     "text": [
      "/var/folders/sx/h0nzb83j4f7632pxq_w2dmgr0000gp/T/ipykernel_52458/209588409.py:12: DtypeWarning: Columns (19,21) have mixed types. Specify dtype option on import or set low_memory=False.\n",
      "  df_2016 = pd.read_csv('../data/2016_final.csv')\n",
      "/var/folders/sx/h0nzb83j4f7632pxq_w2dmgr0000gp/T/ipykernel_52458/209588409.py:13: DtypeWarning: Columns (19,21) have mixed types. Specify dtype option on import or set low_memory=False.\n",
      "  df_2017 = pd.read_csv('../data/2017_final.csv')\n"
     ]
    }
   ],
   "source": [
    "df = pd.read_csv('../data/train.csv')\n",
    "test_df = pd.read_csv('../data/test.csv')\n",
    "\n",
    "df['transactiondate_new'] = pd.to_datetime(df['transactiondate'])\n",
    "df['year'] = df.transactiondate_new.dt.year\n",
    "df['month'] = df.transactiondate_new.dt.month\n",
    "\n",
    "test_df['transactiondate_new'] = pd.to_datetime(test_df['transactiondate'])\n",
    "test_df['year'] = test_df.transactiondate_new.dt.year\n",
    "test_df['month'] = test_df.transactiondate_new.dt.month\n",
    "\n",
    "df_2016 = pd.read_csv('../data/2016_final.csv')\n",
    "df_2017 = pd.read_csv('../data/2017_final.csv')"
   ]
  },
  {
   "cell_type": "code",
   "execution_count": 46,
   "id": "33c9d46f",
   "metadata": {},
   "outputs": [],
   "source": [
    "combined_df = pd.concat([df_2016, df_2017])\n",
    "combined_df = combined_df.sort_values('assessmentyear', ascending=False).drop_duplicates(['parcelid'], keep='first')"
   ]
  },
  {
   "cell_type": "code",
   "execution_count": 47,
   "id": "7f31f468",
   "metadata": {},
   "outputs": [],
   "source": [
    "combined_df = combined_df.drop_duplicates(keep='first')"
   ]
  },
  {
   "cell_type": "code",
   "execution_count": 48,
   "id": "156d9b32",
   "metadata": {},
   "outputs": [
    {
     "data": {
      "text/plain": [
       "46181"
      ]
     },
     "execution_count": 48,
     "metadata": {},
     "output_type": "execute_result"
    }
   ],
   "source": [
    "len(set(df.parcelid.values) - (set(combined_df.parcelid.values)))"
   ]
  },
  {
   "cell_type": "code",
   "execution_count": 49,
   "id": "f56b23d7",
   "metadata": {},
   "outputs": [
    {
     "data": {
      "text/plain": [
       "7903"
      ]
     },
     "execution_count": 49,
     "metadata": {},
     "output_type": "execute_result"
    }
   ],
   "source": [
    "len(set(test_df.parcelid.values) - (set(combined_df.parcelid.values)))"
   ]
  },
  {
   "cell_type": "code",
   "execution_count": 50,
   "id": "7ef60e10",
   "metadata": {},
   "outputs": [],
   "source": [
    "combined_df = combined_df.drop_duplicates(keep='first')\n",
    "df = pd.merge(df, combined_df, on='parcelid', how='left')\n",
    "test_df = pd.merge(test_df, combined_df, on='parcelid', how='left')"
   ]
  },
  {
   "cell_type": "code",
   "execution_count": 51,
   "id": "ba49a1ae",
   "metadata": {},
   "outputs": [
    {
     "data": {
      "text/plain": [
       "0.32526572973876"
      ]
     },
     "execution_count": 51,
     "metadata": {},
     "output_type": "execute_result"
    }
   ],
   "source": [
    "df.bedroomcnt.isna().sum()/len(df.index)"
   ]
  },
  {
   "cell_type": "code",
   "execution_count": 52,
   "id": "6a1d91a4",
   "metadata": {},
   "outputs": [
    {
     "data": {
      "text/plain": [
       "0.3264952325917365"
      ]
     },
     "execution_count": 52,
     "metadata": {},
     "output_type": "execute_result"
    }
   ],
   "source": [
    "test_df.bedroomcnt.isna().sum()/len(test_df.index)"
   ]
  },
  {
   "cell_type": "markdown",
   "id": "1d6ce260",
   "metadata": {},
   "source": [
    "# Create Race Category"
   ]
  },
  {
   "cell_type": "code",
   "execution_count": null,
   "id": "1cc39c79",
   "metadata": {},
   "outputs": [],
   "source": [
    "df['White_Percentage'] = df['white_alone']/df['total']\n",
    "df['Black_Percentage'] = df['black_alone']/df['total']\n",
    "df['h_l_Percentage'] = df['hispanic_or_latino']/df['total']\n",
    "df['not_h_l_Percentage'] = df['not_hispanic_or_latino']/df['total']\n",
    "df['Asian_Percentage'] = df['asian_alone']/df['total']\n",
    "\n",
    "test_df['White_Percentage'] = test_df['white_alone']/test_df['total']\n",
    "test_df['Black_Percentage'] = test_df['black_alone']/test_df['total']\n",
    "test_df['h_l_Percentage'] = test_df['hispanic_or_latino']/test_df['total']\n",
    "test_df['not_h_l_Percentage'] = test_df['not_hispanic_or_latino']/test_df['total']\n",
    "test_df['Asian_Percentage'] = test_df['asian_alone']/test_df['total']"
   ]
  },
  {
   "cell_type": "code",
   "execution_count": null,
   "id": "15ca1396",
   "metadata": {},
   "outputs": [],
   "source": [
    "df = df.drop(['white_alone', 'black_alone', 'hispanic_or_latino', 'not_hispanic_or_latino', 'asian_alone',\n",
    "             'transactiondate', 'propertycountylandusecode', 'propertylandusetypeid', 'rawcensustractandblock',\n",
    "             ], axis=1)\n",
    "\n",
    "test_df = test_df.drop(['white_alone', 'black_alone', 'hispanic_or_latino', 'not_hispanic_or_latino', 'asian_alone',\n",
    "             'transactiondate', 'propertycountylandusecode', 'propertylandusetypeid', 'rawcensustractandblock',\n",
    "             ], axis=1)"
   ]
  },
  {
   "cell_type": "markdown",
   "id": "6661c3d3",
   "metadata": {},
   "source": [
    "# Save Data"
   ]
  },
  {
   "cell_type": "code",
   "execution_count": null,
   "id": "db753933",
   "metadata": {},
   "outputs": [],
   "source": [
    "df.to_csv('../data/train_with_feautures.csv')"
   ]
  },
  {
   "cell_type": "code",
   "execution_count": null,
   "id": "f5006504",
   "metadata": {},
   "outputs": [],
   "source": [
    "test_df.to_csv('../data/test_with_feautures.csv')"
   ]
  },
  {
   "cell_type": "code",
   "execution_count": null,
   "id": "c372cb9a",
   "metadata": {},
   "outputs": [],
   "source": [
    "test_df"
   ]
  },
  {
   "cell_type": "code",
   "execution_count": null,
   "id": "f1bae982",
   "metadata": {},
   "outputs": [],
   "source": []
  }
 ],
 "metadata": {
  "kernelspec": {
   "display_name": "Python 3 (ipykernel)",
   "language": "python",
   "name": "python3"
  },
  "language_info": {
   "codemirror_mode": {
    "name": "ipython",
    "version": 3
   },
   "file_extension": ".py",
   "mimetype": "text/x-python",
   "name": "python",
   "nbconvert_exporter": "python",
   "pygments_lexer": "ipython3",
   "version": "3.9.4"
  }
 },
 "nbformat": 4,
 "nbformat_minor": 5
}
