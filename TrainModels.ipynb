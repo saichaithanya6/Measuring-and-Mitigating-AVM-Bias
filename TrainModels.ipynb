{
 "cells": [
  {
   "cell_type": "code",
   "execution_count": 15,
   "id": "19d45bc5",
   "metadata": {},
   "outputs": [],
   "source": [
    "import pandas as pd\n",
    "import numpy as np\n",
    "from sklearn.model_selection import train_test_split\n",
    "import xgboost as xgb\n",
    "from sklearn.metrics import mean_squared_error"
   ]
  },
  {
   "cell_type": "code",
   "execution_count": 43,
   "id": "bd2ce2d6",
   "metadata": {},
   "outputs": [
    {
     "name": "stderr",
     "output_type": "stream",
     "text": [
      "/var/folders/sx/h0nzb83j4f7632pxq_w2dmgr0000gp/T/ipykernel_53408/4275464869.py:11: SettingWithCopyWarning: \n",
      "A value is trying to be set on a copy of a slice from a DataFrame.\n",
      "Try using .loc[row_indexer,col_indexer] = value instead\n",
      "\n",
      "See the caveats in the documentation: https://pandas.pydata.org/pandas-docs/stable/user_guide/indexing.html#returning-a-view-versus-a-copy\n",
      "  X['poolcnt'] = X['poolcnt'].fillna(0.0)\n",
      "/var/folders/sx/h0nzb83j4f7632pxq_w2dmgr0000gp/T/ipykernel_53408/4275464869.py:12: SettingWithCopyWarning: \n",
      "A value is trying to be set on a copy of a slice from a DataFrame.\n",
      "Try using .loc[row_indexer,col_indexer] = value instead\n",
      "\n",
      "See the caveats in the documentation: https://pandas.pydata.org/pandas-docs/stable/user_guide/indexing.html#returning-a-view-versus-a-copy\n",
      "  X['buildingqualitytypeid'] = X['buildingqualitytypeid'].fillna(0.0)\n",
      "/var/folders/sx/h0nzb83j4f7632pxq_w2dmgr0000gp/T/ipykernel_53408/4275464869.py:14: SettingWithCopyWarning: \n",
      "A value is trying to be set on a copy of a slice from a DataFrame.\n",
      "Try using .loc[row_indexer,col_indexer] = value instead\n",
      "\n",
      "See the caveats in the documentation: https://pandas.pydata.org/pandas-docs/stable/user_guide/indexing.html#returning-a-view-versus-a-copy\n",
      "  X['fireplacecnt'] = X['fireplacecnt'].fillna(0.0)\n",
      "/var/folders/sx/h0nzb83j4f7632pxq_w2dmgr0000gp/T/ipykernel_53408/4275464869.py:15: SettingWithCopyWarning: \n",
      "A value is trying to be set on a copy of a slice from a DataFrame.\n",
      "Try using .loc[row_indexer,col_indexer] = value instead\n",
      "\n",
      "See the caveats in the documentation: https://pandas.pydata.org/pandas-docs/stable/user_guide/indexing.html#returning-a-view-versus-a-copy\n",
      "  X['fireplacecnt'] = X['fireplacecnt'].astype(float)\n",
      "/var/folders/sx/h0nzb83j4f7632pxq_w2dmgr0000gp/T/ipykernel_53408/4275464869.py:18: SettingWithCopyWarning: \n",
      "A value is trying to be set on a copy of a slice from a DataFrame.\n",
      "Try using .loc[row_indexer,col_indexer] = value instead\n",
      "\n",
      "See the caveats in the documentation: https://pandas.pydata.org/pandas-docs/stable/user_guide/indexing.html#returning-a-view-versus-a-copy\n",
      "  X['bathroomcnt'] = X['bathroomcnt'].astype(float)\n",
      "/var/folders/sx/h0nzb83j4f7632pxq_w2dmgr0000gp/T/ipykernel_53408/4275464869.py:22: SettingWithCopyWarning: \n",
      "A value is trying to be set on a copy of a slice from a DataFrame.\n",
      "Try using .loc[row_indexer,col_indexer] = value instead\n",
      "\n",
      "See the caveats in the documentation: https://pandas.pydata.org/pandas-docs/stable/user_guide/indexing.html#returning-a-view-versus-a-copy\n",
      "  X['bedroomcnt'] = X['bedroomcnt'].astype(float)\n",
      "/var/folders/sx/h0nzb83j4f7632pxq_w2dmgr0000gp/T/ipykernel_53408/4275464869.py:26: SettingWithCopyWarning: \n",
      "A value is trying to be set on a copy of a slice from a DataFrame.\n",
      "Try using .loc[row_indexer,col_indexer] = value instead\n",
      "\n",
      "See the caveats in the documentation: https://pandas.pydata.org/pandas-docs/stable/user_guide/indexing.html#returning-a-view-versus-a-copy\n",
      "  X['calculatedbathnbr'] = X['calculatedbathnbr'].astype(float)\n",
      "/var/folders/sx/h0nzb83j4f7632pxq_w2dmgr0000gp/T/ipykernel_53408/4275464869.py:30: SettingWithCopyWarning: \n",
      "A value is trying to be set on a copy of a slice from a DataFrame.\n",
      "Try using .loc[row_indexer,col_indexer] = value instead\n",
      "\n",
      "See the caveats in the documentation: https://pandas.pydata.org/pandas-docs/stable/user_guide/indexing.html#returning-a-view-versus-a-copy\n",
      "  X['calculatedfinishedsquarefeet'] = X['calculatedfinishedsquarefeet'].astype(float)\n"
     ]
    }
   ],
   "source": [
    "train_df = pd.read_csv('../data/train_with_feautures.csv')\n",
    "train_df = train_df[~train_df.census_tract.isna()]\n",
    "X = train_df[['year', 'month', 'bathroomcnt', 'bedroomcnt',\n",
    "              'buildingqualitytypeid', 'calculatedbathnbr', 'calculatedfinishedsquarefeet',\n",
    "              'finishedsquarefeet12', 'fireplacecnt', 'fullbathcnt', 'garagecarcnt', 'garagetotalsqft',\n",
    "              'heatingorsystemtypeid', 'lotsizesquarefeet', 'poolcnt',\n",
    "              'roomcnt', 'taxvaluedollarcnt', 'assessmentyear',\n",
    "              'landtaxvaluedollarcnt','taxamount', 'total', 'White_Percentage', 'Black_Percentage',\n",
    "              'h_l_Percentage', 'not_h_l_Percentage', 'Asian_Percentage', 'census_tract']]\n",
    "\n",
    "X['poolcnt'] = X['poolcnt'].fillna(0.0)\n",
    "X['buildingqualitytypeid'] = X['buildingqualitytypeid'].fillna(0.0)\n",
    "\n",
    "X['fireplacecnt'] = X['fireplacecnt'].fillna(0.0)\n",
    "X['fireplacecnt'] = X['fireplacecnt'].astype(float)\n",
    "\n",
    "X.loc[X['bathroomcnt'] == '3+', 'bathroomcnt'] = 4.0\n",
    "X['bathroomcnt'] = X['bathroomcnt'].astype(float)\n",
    "X.loc[X['bathroomcnt'] >= 3, 'bathroomcnt'] = '3+'\n",
    "\n",
    "X.loc[X['bedroomcnt'] == '3+', 'bedroomcnt'] = 4.0\n",
    "X['bedroomcnt'] = X['bedroomcnt'].astype(float)\n",
    "X.loc[X['bedroomcnt'] >= 3, 'bedroomcnt'] = '3+'\n",
    "\n",
    "X.loc[X['calculatedbathnbr'] == '5+', 'calculatedbathnbr'] = 5.0\n",
    "X['calculatedbathnbr'] = X['calculatedbathnbr'].astype(float)\n",
    "X.loc[X['calculatedbathnbr'] >= 5, 'calculatedbathnbr'] = '5+'\n",
    "\n",
    "X.loc[X['calculatedfinishedsquarefeet'] == '5+', 'calculatedfinishedsquarefeet'] = 5000\n",
    "X['calculatedfinishedsquarefeet'] = X['calculatedfinishedsquarefeet'].astype(float)\n",
    "\n",
    "y = train_df[['logerror']]"
   ]
  },
  {
   "cell_type": "code",
   "execution_count": 44,
   "id": "51ce6fb6",
   "metadata": {},
   "outputs": [
    {
     "name": "stdout",
     "output_type": "stream",
     "text": [
      "buildingqualitytypeid\n",
      "calculatedfinishedsquarefeet\n",
      "finishedsquarefeet12\n",
      "fullbathcnt\n",
      "garagetotalsqft\n",
      "lotsizesquarefeet\n",
      "roomcnt\n",
      "taxvaluedollarcnt\n",
      "landtaxvaluedollarcnt\n",
      "taxamount\n",
      "total\n",
      "White_Percentage\n",
      "Black_Percentage\n",
      "h_l_Percentage\n",
      "not_h_l_Percentage\n",
      "Asian_Percentage\n"
     ]
    },
    {
     "name": "stderr",
     "output_type": "stream",
     "text": [
      "/var/folders/sx/h0nzb83j4f7632pxq_w2dmgr0000gp/T/ipykernel_53408/4045617365.py:5: SettingWithCopyWarning: \n",
      "A value is trying to be set on a copy of a slice from a DataFrame.\n",
      "Try using .loc[row_indexer,col_indexer] = value instead\n",
      "\n",
      "See the caveats in the documentation: https://pandas.pydata.org/pandas-docs/stable/user_guide/indexing.html#returning-a-view-versus-a-copy\n",
      "  X[col] = X[col].astype('category')\n",
      "/var/folders/sx/h0nzb83j4f7632pxq_w2dmgr0000gp/T/ipykernel_53408/4045617365.py:5: SettingWithCopyWarning: \n",
      "A value is trying to be set on a copy of a slice from a DataFrame.\n",
      "Try using .loc[row_indexer,col_indexer] = value instead\n",
      "\n",
      "See the caveats in the documentation: https://pandas.pydata.org/pandas-docs/stable/user_guide/indexing.html#returning-a-view-versus-a-copy\n",
      "  X[col] = X[col].astype('category')\n",
      "/var/folders/sx/h0nzb83j4f7632pxq_w2dmgr0000gp/T/ipykernel_53408/4045617365.py:5: SettingWithCopyWarning: \n",
      "A value is trying to be set on a copy of a slice from a DataFrame.\n",
      "Try using .loc[row_indexer,col_indexer] = value instead\n",
      "\n",
      "See the caveats in the documentation: https://pandas.pydata.org/pandas-docs/stable/user_guide/indexing.html#returning-a-view-versus-a-copy\n",
      "  X[col] = X[col].astype('category')\n",
      "/var/folders/sx/h0nzb83j4f7632pxq_w2dmgr0000gp/T/ipykernel_53408/4045617365.py:5: SettingWithCopyWarning: \n",
      "A value is trying to be set on a copy of a slice from a DataFrame.\n",
      "Try using .loc[row_indexer,col_indexer] = value instead\n",
      "\n",
      "See the caveats in the documentation: https://pandas.pydata.org/pandas-docs/stable/user_guide/indexing.html#returning-a-view-versus-a-copy\n",
      "  X[col] = X[col].astype('category')\n",
      "/var/folders/sx/h0nzb83j4f7632pxq_w2dmgr0000gp/T/ipykernel_53408/4045617365.py:5: SettingWithCopyWarning: \n",
      "A value is trying to be set on a copy of a slice from a DataFrame.\n",
      "Try using .loc[row_indexer,col_indexer] = value instead\n",
      "\n",
      "See the caveats in the documentation: https://pandas.pydata.org/pandas-docs/stable/user_guide/indexing.html#returning-a-view-versus-a-copy\n",
      "  X[col] = X[col].astype('category')\n",
      "/var/folders/sx/h0nzb83j4f7632pxq_w2dmgr0000gp/T/ipykernel_53408/4045617365.py:5: SettingWithCopyWarning: \n",
      "A value is trying to be set on a copy of a slice from a DataFrame.\n",
      "Try using .loc[row_indexer,col_indexer] = value instead\n",
      "\n",
      "See the caveats in the documentation: https://pandas.pydata.org/pandas-docs/stable/user_guide/indexing.html#returning-a-view-versus-a-copy\n",
      "  X[col] = X[col].astype('category')\n",
      "/var/folders/sx/h0nzb83j4f7632pxq_w2dmgr0000gp/T/ipykernel_53408/4045617365.py:5: SettingWithCopyWarning: \n",
      "A value is trying to be set on a copy of a slice from a DataFrame.\n",
      "Try using .loc[row_indexer,col_indexer] = value instead\n",
      "\n",
      "See the caveats in the documentation: https://pandas.pydata.org/pandas-docs/stable/user_guide/indexing.html#returning-a-view-versus-a-copy\n",
      "  X[col] = X[col].astype('category')\n",
      "/var/folders/sx/h0nzb83j4f7632pxq_w2dmgr0000gp/T/ipykernel_53408/4045617365.py:5: SettingWithCopyWarning: \n",
      "A value is trying to be set on a copy of a slice from a DataFrame.\n",
      "Try using .loc[row_indexer,col_indexer] = value instead\n",
      "\n",
      "See the caveats in the documentation: https://pandas.pydata.org/pandas-docs/stable/user_guide/indexing.html#returning-a-view-versus-a-copy\n",
      "  X[col] = X[col].astype('category')\n",
      "/var/folders/sx/h0nzb83j4f7632pxq_w2dmgr0000gp/T/ipykernel_53408/4045617365.py:5: SettingWithCopyWarning: \n",
      "A value is trying to be set on a copy of a slice from a DataFrame.\n",
      "Try using .loc[row_indexer,col_indexer] = value instead\n",
      "\n",
      "See the caveats in the documentation: https://pandas.pydata.org/pandas-docs/stable/user_guide/indexing.html#returning-a-view-versus-a-copy\n",
      "  X[col] = X[col].astype('category')\n",
      "/var/folders/sx/h0nzb83j4f7632pxq_w2dmgr0000gp/T/ipykernel_53408/4045617365.py:5: SettingWithCopyWarning: \n",
      "A value is trying to be set on a copy of a slice from a DataFrame.\n",
      "Try using .loc[row_indexer,col_indexer] = value instead\n",
      "\n",
      "See the caveats in the documentation: https://pandas.pydata.org/pandas-docs/stable/user_guide/indexing.html#returning-a-view-versus-a-copy\n",
      "  X[col] = X[col].astype('category')\n",
      "/var/folders/sx/h0nzb83j4f7632pxq_w2dmgr0000gp/T/ipykernel_53408/4045617365.py:5: SettingWithCopyWarning: \n",
      "A value is trying to be set on a copy of a slice from a DataFrame.\n",
      "Try using .loc[row_indexer,col_indexer] = value instead\n",
      "\n",
      "See the caveats in the documentation: https://pandas.pydata.org/pandas-docs/stable/user_guide/indexing.html#returning-a-view-versus-a-copy\n",
      "  X[col] = X[col].astype('category')\n",
      "/var/folders/sx/h0nzb83j4f7632pxq_w2dmgr0000gp/T/ipykernel_53408/4045617365.py:10: SettingWithCopyWarning: \n",
      "A value is trying to be set on a copy of a slice from a DataFrame.\n",
      "Try using .loc[row_indexer,col_indexer] = value instead\n",
      "\n",
      "See the caveats in the documentation: https://pandas.pydata.org/pandas-docs/stable/user_guide/indexing.html#returning-a-view-versus-a-copy\n",
      "  X[col] = X[col].astype('float')\n"
     ]
    }
   ],
   "source": [
    "category_variables = ['year', 'month', 'fireplacecnt', 'bathroomcnt', 'calculatedbathnbr',\n",
    "                     'garagecarcnt', 'heatingorsystemtypeid', 'poolcnt', 'assessmentyear', 'bedroomcnt', 'census_tract']\n",
    "\n",
    "for col in category_variables:\n",
    "    X[col] = X[col].astype('category')\n",
    "    \n",
    "for col in X.columns:\n",
    "    if col not in category_variables:\n",
    "        print(col)\n",
    "        X[col] = X[col].astype('float')"
   ]
  },
  {
   "cell_type": "code",
   "execution_count": 45,
   "id": "54f4a62a",
   "metadata": {},
   "outputs": [],
   "source": [
    "X_train, X_test, y_train, y_test = train_test_split(X, y, random_state=1, test_size=.3)"
   ]
  },
  {
   "cell_type": "code",
   "execution_count": 46,
   "id": "ec33b40a",
   "metadata": {},
   "outputs": [
    {
     "data": {
      "text/plain": [
       "year                            category\n",
       "month                           category\n",
       "bathroomcnt                     category\n",
       "bedroomcnt                      category\n",
       "buildingqualitytypeid            float64\n",
       "calculatedbathnbr               category\n",
       "calculatedfinishedsquarefeet     float64\n",
       "finishedsquarefeet12             float64\n",
       "fireplacecnt                    category\n",
       "fullbathcnt                      float64\n",
       "garagecarcnt                    category\n",
       "garagetotalsqft                  float64\n",
       "heatingorsystemtypeid           category\n",
       "lotsizesquarefeet                float64\n",
       "poolcnt                         category\n",
       "roomcnt                          float64\n",
       "taxvaluedollarcnt                float64\n",
       "assessmentyear                  category\n",
       "landtaxvaluedollarcnt            float64\n",
       "taxamount                        float64\n",
       "total                            float64\n",
       "White_Percentage                 float64\n",
       "Black_Percentage                 float64\n",
       "h_l_Percentage                   float64\n",
       "not_h_l_Percentage               float64\n",
       "Asian_Percentage                 float64\n",
       "census_tract                    category\n",
       "dtype: object"
      ]
     },
     "execution_count": 46,
     "metadata": {},
     "output_type": "execute_result"
    }
   ],
   "source": [
    "X_train.dtypes"
   ]
  },
  {
   "cell_type": "code",
   "execution_count": 47,
   "id": "0a7abd15",
   "metadata": {},
   "outputs": [],
   "source": [
    "dtrain_reg = xgb.DMatrix(X_train, y_train, enable_categorical=True)\n",
    "dtest_reg = xgb.DMatrix(X_test, y_test, enable_categorical=True)"
   ]
  },
  {
   "cell_type": "code",
   "execution_count": 48,
   "id": "15f158ee",
   "metadata": {},
   "outputs": [
    {
     "name": "stdout",
     "output_type": "stream",
     "text": [
      "[0]\tvalidation-rmse:0.37730\ttrain-rmse:0.37803\n",
      "[49]\tvalidation-rmse:0.16628\ttrain-rmse:0.14393\n"
     ]
    }
   ],
   "source": [
    "params = {\"objective\": \"reg:squarederror\"}\n",
    "evals = [(dtest_reg, \"validation\"), (dtrain_reg, \"train\")]\n",
    "\n",
    "n=50\n",
    "model = xgb.train(\n",
    "   params=params,\n",
    "   dtrain=dtrain_reg,\n",
    "   num_boost_round=n,\n",
    "   evals=evals,\n",
    "   verbose_eval=50,\n",
    "   early_stopping_rounds=50\n",
    ")\n"
   ]
  },
  {
   "cell_type": "code",
   "execution_count": 49,
   "id": "9da3e178",
   "metadata": {},
   "outputs": [
    {
     "name": "stdout",
     "output_type": "stream",
     "text": [
      "RMSE of the base model: 0.166\n"
     ]
    }
   ],
   "source": [
    "preds = model.predict(dtest_reg)\n",
    "rmse = mean_squared_error(y_test['logerror'], preds, squared=False)\n",
    "print(f\"RMSE of the base model: {rmse:.3f}\")"
   ]
  },
  {
   "cell_type": "code",
   "execution_count": 50,
   "id": "7bb8d276",
   "metadata": {},
   "outputs": [
    {
     "data": {
      "text/plain": [
       "array([-0.00089449,  0.04353946,  0.0170693 , ...,  0.01944389,\n",
       "        0.00665075,  0.02101265], dtype=float32)"
      ]
     },
     "execution_count": 50,
     "metadata": {},
     "output_type": "execute_result"
    }
   ],
   "source": [
    "preds"
   ]
  },
  {
   "cell_type": "code",
   "execution_count": 51,
   "id": "af25db80",
   "metadata": {},
   "outputs": [],
   "source": [
    "y_test['preds'] = preds"
   ]
  },
  {
   "cell_type": "code",
   "execution_count": 52,
   "id": "0c1a53fa",
   "metadata": {},
   "outputs": [
    {
     "data": {
      "text/html": [
       "<div>\n",
       "<style scoped>\n",
       "    .dataframe tbody tr th:only-of-type {\n",
       "        vertical-align: middle;\n",
       "    }\n",
       "\n",
       "    .dataframe tbody tr th {\n",
       "        vertical-align: top;\n",
       "    }\n",
       "\n",
       "    .dataframe thead th {\n",
       "        text-align: right;\n",
       "    }\n",
       "</style>\n",
       "<table border=\"1\" class=\"dataframe\">\n",
       "  <thead>\n",
       "    <tr style=\"text-align: right;\">\n",
       "      <th></th>\n",
       "      <th>logerror</th>\n",
       "      <th>preds</th>\n",
       "    </tr>\n",
       "  </thead>\n",
       "  <tbody>\n",
       "    <tr>\n",
       "      <th>18766</th>\n",
       "      <td>-0.084500</td>\n",
       "      <td>-0.000894</td>\n",
       "    </tr>\n",
       "    <tr>\n",
       "      <th>109741</th>\n",
       "      <td>-0.086868</td>\n",
       "      <td>0.043539</td>\n",
       "    </tr>\n",
       "    <tr>\n",
       "      <th>83962</th>\n",
       "      <td>0.020800</td>\n",
       "      <td>0.017069</td>\n",
       "    </tr>\n",
       "    <tr>\n",
       "      <th>57647</th>\n",
       "      <td>-0.011100</td>\n",
       "      <td>0.006690</td>\n",
       "    </tr>\n",
       "    <tr>\n",
       "      <th>35963</th>\n",
       "      <td>0.005000</td>\n",
       "      <td>0.047502</td>\n",
       "    </tr>\n",
       "    <tr>\n",
       "      <th>...</th>\n",
       "      <td>...</td>\n",
       "      <td>...</td>\n",
       "    </tr>\n",
       "    <tr>\n",
       "      <th>81971</th>\n",
       "      <td>0.020800</td>\n",
       "      <td>0.031634</td>\n",
       "    </tr>\n",
       "    <tr>\n",
       "      <th>96024</th>\n",
       "      <td>0.016836</td>\n",
       "      <td>0.022917</td>\n",
       "    </tr>\n",
       "    <tr>\n",
       "      <th>54519</th>\n",
       "      <td>0.085300</td>\n",
       "      <td>0.019444</td>\n",
       "    </tr>\n",
       "    <tr>\n",
       "      <th>31731</th>\n",
       "      <td>0.029600</td>\n",
       "      <td>0.006651</td>\n",
       "    </tr>\n",
       "    <tr>\n",
       "      <th>6488</th>\n",
       "      <td>0.000000</td>\n",
       "      <td>0.021013</td>\n",
       "    </tr>\n",
       "  </tbody>\n",
       "</table>\n",
       "<p>29080 rows × 2 columns</p>\n",
       "</div>"
      ],
      "text/plain": [
       "        logerror     preds\n",
       "18766  -0.084500 -0.000894\n",
       "109741 -0.086868  0.043539\n",
       "83962   0.020800  0.017069\n",
       "57647  -0.011100  0.006690\n",
       "35963   0.005000  0.047502\n",
       "...          ...       ...\n",
       "81971   0.020800  0.031634\n",
       "96024   0.016836  0.022917\n",
       "54519   0.085300  0.019444\n",
       "31731   0.029600  0.006651\n",
       "6488    0.000000  0.021013\n",
       "\n",
       "[29080 rows x 2 columns]"
      ]
     },
     "execution_count": 52,
     "metadata": {},
     "output_type": "execute_result"
    }
   ],
   "source": [
    "y_test"
   ]
  },
  {
   "cell_type": "code",
   "execution_count": 53,
   "id": "6207394b",
   "metadata": {},
   "outputs": [
    {
     "data": {
      "text/plain": [
       "<AxesSubplot: xlabel='logerror', ylabel='preds'>"
      ]
     },
     "execution_count": 53,
     "metadata": {},
     "output_type": "execute_result"
    },
    {
     "data": {
      "image/png": "[encoded data removed]",
      "text/plain": [
       "<Figure size 640x480 with 1 Axes>"
      ]
     },
     "metadata": {},
     "output_type": "display_data"
    }
   ],
   "source": [
    "y_test.plot.scatter(x='logerror', y='preds')"
   ]
  },
  {
   "cell_type": "code",
   "execution_count": 54,
   "id": "173a8fb6",
   "metadata": {},
   "outputs": [
    {
     "data": {
      "text/plain": [
       "<AxesSubplot: >"
      ]
     },
     "execution_count": 54,
     "metadata": {},
     "output_type": "execute_result"
    },
    {
     "data": {
      "image/png": "[encoded data removed]",
      "text/plain": [
       "<Figure size 2000x1000 with 1 Axes>"
      ]
     },
     "metadata": {},
     "output_type": "display_data"
    }
   ],
   "source": [
    "feature_important = model.get_score(importance_type='weight')\n",
    "keys = list(feature_important.keys())\n",
    "values = list(feature_important.values())\n",
    "\n",
    "data = pd.DataFrame(data=values, index=keys, columns=[\"score\"]).sort_values(by = \"score\", ascending=False)\n",
    "data.nlargest(40, columns=\"score\").plot(kind='barh', figsize = (20,10)) ## plot top 40 features"
   ]
  },
  {
   "cell_type": "code",
   "execution_count": 55,
   "id": "527d167c",
   "metadata": {},
   "outputs": [],
   "source": [
    "test_df = pd.read_csv('../data/test_with_feautures.csv')"
   ]
  },
  {
   "cell_type": "code",
   "execution_count": null,
   "id": "20b045ff",
   "metadata": {},
   "outputs": [],
   "source": [
    "X = test_df[['year', 'month', 'bathroomcnt', 'bedroomcnt',\n",
    "              'buildingqualitytypeid', 'calculatedbathnbr', 'calculatedfinishedsquarefeet',\n",
    "              'finishedsquarefeet12', 'fireplacecnt', 'fullbathcnt', 'garagecarcnt', 'garagetotalsqft',\n",
    "              'heatingorsystemtypeid', 'latitude', 'longitude', 'lotsizesquarefeet', 'poolcnt',\n",
    "              'roomcnt', 'taxvaluedollarcnt', 'assessmentyear',\n",
    "              'landtaxvaluedollarcnt','taxamount', 'total', 'White_Percentage', 'Black_Percentage',\n",
    "              'h_l_Percentage', 'not_h_l_Percentage', 'Asian_Percentage']]\n",
    "\n",
    "X['poolcnt'] = X['poolcnt'].fillna(0.0)\n",
    "\n",
    "X['fireplacecnt'] = X['fireplacecnt'].fillna(0.0)\n",
    "X['fireplacecnt'] = X['fireplacecnt'].astype(float)\n",
    "\n",
    "X.loc[X['bathroomcnt'] == '3+', 'bathroomcnt'] = 4.0\n",
    "X['bathroomcnt'] = X['bathroomcnt'].astype(float)\n",
    "X.loc[X['bathroomcnt'] >= 3, 'bathroomcnt'] = '3+'\n",
    "\n",
    "X.loc[X['bedroomcnt'] == '3+', 'bedroomcnt'] = 4.0\n",
    "X['bedroomcnt'] = X['bedroomcnt'].astype(float)\n",
    "X.loc[X['bedroomcnt'] >= 3, 'bedroomcnt'] = '3+'\n",
    "\n",
    "X.loc[X['calculatedbathnbr'] == '5+', 'calculatedbathnbr'] = 5.0\n",
    "X['calculatedbathnbr'] = X['calculatedbathnbr'].astype(float)\n",
    "X.loc[X['calculatedbathnbr'] >= 5, 'calculatedbathnbr'] = '5+'\n",
    "\n",
    "X.loc[X['calculatedfinishedsquarefeet'] == '5+', 'calculatedfinishedsquarefeet'] = 5000\n",
    "X['calculatedfinishedsquarefeet'] = X['calculatedfinishedsquarefeet'].astype(float)\n",
    "\n",
    "y = test_df[['logerror']]\n",
    "\n",
    "\n",
    "\n",
    "\n",
    "category_variables = ['year', 'month', 'buildingqualitytypeid', 'fireplacecnt', 'bathroomcnt', 'calculatedbathnbr',\n",
    "                     'garagecarcnt', 'heatingorsystemtypeid', 'poolcnt', 'assessmentyear', 'bedroomcnt']\n",
    "\n",
    "for col in category_variables:\n",
    "    X[col] = X[col].astype('category')\n",
    "    \n",
    "for col in X.columns:\n",
    "    if col not in category_variables:\n",
    "        print(col)\n",
    "        X[col] = X[col].astype('float')"
   ]
  },
  {
   "cell_type": "code",
   "execution_count": null,
   "id": "4a41c6bb",
   "metadata": {},
   "outputs": [],
   "source": [
    "dtest_final = xgb.DMatrix(X, y, enable_categorical=True)\n",
    "preds = model.predict(dtest_final)\n",
    "preds"
   ]
  },
  {
   "cell_type": "code",
   "execution_count": null,
   "id": "4d69b1cf",
   "metadata": {},
   "outputs": [],
   "source": [
    "submit_df = pd.read_csv('../data/test.csv')\n",
    "submit_df['logerror'] = preds"
   ]
  },
  {
   "cell_type": "code",
   "execution_count": null,
   "id": "7c4c29a5",
   "metadata": {},
   "outputs": [],
   "source": [
    "submit_df"
   ]
  },
  {
   "cell_type": "code",
   "execution_count": 68,
   "id": "63603bc9",
   "metadata": {},
   "outputs": [
    {
     "name": "stdout",
     "output_type": "stream",
     "text": [
      "1.0115030710794202\n",
      "1.0150864860218374\n"
     ]
    }
   ],
   "source": [
    "mu = train_df.taxvaluedollarcnt.mean()\n",
    "print(np.exp(train_df[train_df.taxvaluedollarcnt >= mu].logerror.mean()))\n",
    "print(np.exp(train_df[train_df.taxvaluedollarcnt < mu].logerror.mean()))"
   ]
  },
  {
   "cell_type": "code",
   "execution_count": 66,
   "id": "e3c10f87",
   "metadata": {},
   "outputs": [
    {
     "data": {
      "text/plain": [
       "Index(['Unnamed: 0', 'parcelid', 'logerror', 'transactiondate_new', 'year',\n",
       "       'month', 'census_tract', 'airconditioningtypeid', 'bathroomcnt',\n",
       "       'bedroomcnt', 'buildingqualitytypeid', 'calculatedbathnbr',\n",
       "       'calculatedfinishedsquarefeet', 'finishedsquarefeet12', 'fips',\n",
       "       'fireplacecnt', 'fullbathcnt', 'garagecarcnt', 'garagetotalsqft',\n",
       "       'heatingorsystemtypeid', 'latitude', 'longitude', 'lotsizesquarefeet',\n",
       "       'poolcnt', 'propertyzoningdesc', 'regionidcity', 'regionidcounty',\n",
       "       'regionidneighborhood', 'regionidzip', 'roomcnt', 'threequarterbathnbr',\n",
       "       'unitcnt', 'yearbuilt', 'numberofstories', 'structuretaxvaluedollarcnt',\n",
       "       'taxvaluedollarcnt', 'assessmentyear', 'landtaxvaluedollarcnt',\n",
       "       'taxamount', 'censustractandblock', 'state', 'total',\n",
       "       'White_Percentage', 'Black_Percentage', 'h_l_Percentage',\n",
       "       'not_h_l_Percentage', 'Asian_Percentage'],\n",
       "      dtype='object')"
      ]
     },
     "execution_count": 66,
     "metadata": {},
     "output_type": "execute_result"
    }
   ],
   "source": []
  },
  {
   "cell_type": "code",
   "execution_count": null,
   "id": "4b084dd4",
   "metadata": {},
   "outputs": [],
   "source": []
  }
 ],
 "metadata": {
  "kernelspec": {
   "display_name": "Python 3 (ipykernel)",
   "language": "python",
   "name": "python3"
  },
  "language_info": {
   "codemirror_mode": {
    "name": "ipython",
    "version": 3
   },
   "file_extension": ".py",
   "mimetype": "text/x-python",
   "name": "python",
   "nbconvert_exporter": "python",
   "pygments_lexer": "ipython3",
   "version": "3.9.4"
  }
 },
 "nbformat": 4,
 "nbformat_minor": 5
}
